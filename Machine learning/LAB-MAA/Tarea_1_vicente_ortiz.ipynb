{
    "cells": [
        {
            "cell_type": "code",
            "metadata": {
                "id": "new_monthly_failures_count"
            },
            "source": [
                "# Asegurarse de que la columna 'Date' esté en formato datetime",
                "df['Date'] = pd.to_datetime(df['Date'], errors='coerce')",
                "",
                "# Extraer el mes y el año de la columna 'Date'",
                "df['YearMonth'] = df['Date'].dt.to_period('M')",
                "",
                "# Contar el número de fallos por mes",
                "monthly_failures = df.groupby('YearMonth')['Failure_today'].sum().reset_index()",
                "monthly_failures.columns = ['YearMonth', 'Total_Failures']",
                "",
                "# Mostrar el resultado",
                "print(monthly_failures)"
            ]
        }
    ]
}